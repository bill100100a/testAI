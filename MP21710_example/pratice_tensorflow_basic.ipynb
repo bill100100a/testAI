{
 "cells": [
  {
   "cell_type": "code",
   "execution_count": 1,
   "metadata": {},
   "outputs": [
    {
     "data": {
      "text/plain": [
       "<tf.Tensor 'ts_c:0' shape=() dtype=int32>"
      ]
     },
     "execution_count": 1,
     "metadata": {},
     "output_type": "execute_result"
    }
   ],
   "source": [
    "import tensorflow as tf\n",
    "#建立常數\n",
    "ts_c=tf.constant(2,name='ts_c')\n",
    "#建立變數\n",
    "ts_v=tf.Variable(ts_c+5,name='ts_v')\n",
    "ts_c\n",
    "#ts_v"
   ]
  },
  {
   "cell_type": "code",
   "execution_count": 2,
   "metadata": {},
   "outputs": [
    {
     "name": "stdout",
     "output_type": "stream",
     "text": [
      "ts_c= 2\n",
      "ts_v= 7\n"
     ]
    }
   ],
   "source": [
    "#建立session執行計算圖\n",
    "sess=tf.Session()\n",
    "init=tf.global_variables_initializer()\n",
    "sess.run(init)\n",
    "print('ts_c=', sess.run(ts_c))\n",
    "print('ts_v=', sess.run(ts_v))\n",
    "sess.close()"
   ]
  },
  {
   "cell_type": "code",
   "execution_count": 3,
   "metadata": {},
   "outputs": [
    {
     "name": "stdout",
     "output_type": "stream",
     "text": [
      "ts_c= 2\n",
      "ts_v= 7\n"
     ]
    }
   ],
   "source": [
    "#with語法開啟session\n",
    "with tf.Session() as sess:\n",
    "    init=tf.global_variables_initializer()\n",
    "    sess.run(init)\n",
    "    print('ts_c=',sess.run(ts_c))\n",
    "    print('ts_v=',sess.run(ts_v))"
   ]
  },
  {
   "cell_type": "code",
   "execution_count": 4,
   "metadata": {},
   "outputs": [
    {
     "name": "stdout",
     "output_type": "stream",
     "text": [
      "area= 30\n"
     ]
    }
   ],
   "source": [
    "#Placeholder\n",
    "width=tf.placeholder('int32')\n",
    "height=tf.placeholder('int32')\n",
    "area=tf.multiply(width,height)\n",
    "\n",
    "with tf.Session() as sess:\n",
    "    init=tf.global_variables_initializer()\n",
    "    sess.run(init)\n",
    "    print('area=', sess.run(area,feed_dict={width:5,height:6}))"
   ]
  },
  {
   "cell_type": "code",
   "execution_count": 8,
   "metadata": {},
   "outputs": [
    {
     "name": "stdout",
     "output_type": "stream",
     "text": [
      "ts_1= [[1 2 3 4 5]]\n",
      "(1, 5)\n"
     ]
    }
   ],
   "source": [
    "#Create dim 1 tensor\n",
    "ts_1=tf.Variable([[1,2,3,4,5]])\n",
    "\n",
    "with tf.Session() as sess:\n",
    "    init=tf.global_variables_initializer()\n",
    "    sess.run(init)\n",
    "    print('ts_1=', sess.run(ts_1))\n",
    "    print(ts_1.shape)"
   ]
  },
  {
   "cell_type": "code",
   "execution_count": 6,
   "metadata": {},
   "outputs": [
    {
     "name": "stdout",
     "output_type": "stream",
     "text": [
      "[[2 3]\n",
      " [4 1]\n",
      " [6 3]\n",
      " [7 2]\n",
      " [1 2]]\n",
      "(5, 2)\n"
     ]
    }
   ],
   "source": [
    "#Create dim 2 tensor\n",
    "ts_2=tf.Variable([[2,3],\n",
    "                  [4,1],\n",
    "                  [6,3],\n",
    "                  [7,2],\n",
    "                  [1,2]])\n",
    "\n",
    "with tf.Session() as sess:\n",
    "    init=tf.global_variables_initializer()\n",
    "    sess.run(init)\n",
    "    print(sess.run(ts_2))\n",
    "    print(ts_2.shape)"
   ]
  },
  {
   "cell_type": "code",
   "execution_count": 16,
   "metadata": {},
   "outputs": [
    {
     "name": "stdout",
     "output_type": "stream",
     "text": [
      "ts_1*ts_2= [[61 32]]\n"
     ]
    }
   ],
   "source": [
    "#Matmul\n",
    "ts_12=tf.matmul(ts_1,ts_2)\n",
    "with tf.Session() as sess:\n",
    "    init=tf.global_variables_initializer()\n",
    "    sess.run(init)\n",
    "    print('ts_1*ts_2=', sess.run(ts_12))"
   ]
  },
  {
   "cell_type": "code",
   "execution_count": null,
   "metadata": {},
   "outputs": [],
   "source": []
  }
 ],
 "metadata": {
  "kernelspec": {
   "display_name": "Python 3",
   "language": "python",
   "name": "python3"
  },
  "language_info": {
   "codemirror_mode": {
    "name": "ipython",
    "version": 3
   },
   "file_extension": ".py",
   "mimetype": "text/x-python",
   "name": "python",
   "nbconvert_exporter": "python",
   "pygments_lexer": "ipython3",
   "version": "3.6.10"
  }
 },
 "nbformat": 4,
 "nbformat_minor": 2
}
