{
 "cells": [
  {
   "cell_type": "code",
   "execution_count": 1,
   "metadata": {
    "scrolled": true
   },
   "outputs": [
    {
     "name": "stdout",
     "output_type": "stream",
     "text": [
      "WARNING:tensorflow:From <ipython-input-1-bab921c6095f>:3: read_data_sets (from tensorflow.contrib.learn.python.learn.datasets.mnist) is deprecated and will be removed in a future version.\n",
      "Instructions for updating:\n",
      "Please use alternatives such as official/mnist/dataset.py from tensorflow/models.\n",
      "WARNING:tensorflow:From E:\\Anaconda\\Anaconda\\envs\\testAI\\lib\\site-packages\\tensorflow_core\\contrib\\learn\\python\\learn\\datasets\\mnist.py:260: maybe_download (from tensorflow.contrib.learn.python.learn.datasets.base) is deprecated and will be removed in a future version.\n",
      "Instructions for updating:\n",
      "Please write your own downloading logic.\n",
      "WARNING:tensorflow:From E:\\Anaconda\\Anaconda\\envs\\testAI\\lib\\site-packages\\tensorflow_core\\contrib\\learn\\python\\learn\\datasets\\mnist.py:262: extract_images (from tensorflow.contrib.learn.python.learn.datasets.mnist) is deprecated and will be removed in a future version.\n",
      "Instructions for updating:\n",
      "Please use tf.data to implement this functionality.\n",
      "Extracting MNIST_data\\train-images-idx3-ubyte.gz\n",
      "WARNING:tensorflow:From E:\\Anaconda\\Anaconda\\envs\\testAI\\lib\\site-packages\\tensorflow_core\\contrib\\learn\\python\\learn\\datasets\\mnist.py:267: extract_labels (from tensorflow.contrib.learn.python.learn.datasets.mnist) is deprecated and will be removed in a future version.\n",
      "Instructions for updating:\n",
      "Please use tf.data to implement this functionality.\n",
      "Extracting MNIST_data\\train-labels-idx1-ubyte.gz\n",
      "WARNING:tensorflow:From E:\\Anaconda\\Anaconda\\envs\\testAI\\lib\\site-packages\\tensorflow_core\\contrib\\learn\\python\\learn\\datasets\\mnist.py:110: dense_to_one_hot (from tensorflow.contrib.learn.python.learn.datasets.mnist) is deprecated and will be removed in a future version.\n",
      "Instructions for updating:\n",
      "Please use tf.one_hot on tensors.\n",
      "Extracting MNIST_data\\t10k-images-idx3-ubyte.gz\n",
      "Extracting MNIST_data\\t10k-labels-idx1-ubyte.gz\n",
      "WARNING:tensorflow:From E:\\Anaconda\\Anaconda\\envs\\testAI\\lib\\site-packages\\tensorflow_core\\contrib\\learn\\python\\learn\\datasets\\mnist.py:290: DataSet.__init__ (from tensorflow.contrib.learn.python.learn.datasets.mnist) is deprecated and will be removed in a future version.\n",
      "Instructions for updating:\n",
      "Please use alternatives such as official/mnist/dataset.py from tensorflow/models.\n"
     ]
    }
   ],
   "source": [
    "import tensorflow as tf\n",
    "from tensorflow.examples.tutorials.mnist import input_data\n",
    "mnist=input_data.read_data_sets('MNIST_data', one_hot=True)"
   ]
  },
  {
   "cell_type": "code",
   "execution_count": 2,
   "metadata": {},
   "outputs": [],
   "source": [
    "#建立共用函數\n",
    "def weight(shape):\n",
    "    return tf.Variable(tf.truncated_normal(shape, stddev=0.1), name='w')\n",
    "def bias(shape):\n",
    "    return tf.Variable(tf.constant(0.1,shape=shape), name='b')\n",
    "def conv2d(x, W):\n",
    "    return tf.nn.conv2d(x, W, strides=[1,1,1,1], padding='SAME')\n",
    "def max_pool(x):\n",
    "    return tf.nn.max_pool(x, ksize=[1,2,2,1], strides=[1,2,2,1], padding='SAME')"
   ]
  },
  {
   "cell_type": "code",
   "execution_count": 3,
   "metadata": {},
   "outputs": [],
   "source": [
    "#輸入層\n",
    "with tf.name_scope('input_layer'):\n",
    "    x=tf.placeholder('float', shape=[None, 784], name='x')\n",
    "    x_image=tf.reshape(x, [-1,28,28,1])"
   ]
  },
  {
   "cell_type": "code",
   "execution_count": 4,
   "metadata": {},
   "outputs": [],
   "source": [
    "#卷積層1\n",
    "with tf.name_scope('c1_conv'):\n",
    "    W1=weight([5,5,1,16])\n",
    "    b1=bias([16])\n",
    "    conv1=conv2d(x_image, W1)+b1\n",
    "    c1_conv=tf.nn.relu(conv1)"
   ]
  },
  {
   "cell_type": "code",
   "execution_count": 5,
   "metadata": {},
   "outputs": [],
   "source": [
    "#池化層1\n",
    "with tf.name_scope('c1_pool'):\n",
    "    c1_pool=max_pool(c1_conv)"
   ]
  },
  {
   "cell_type": "code",
   "execution_count": 6,
   "metadata": {},
   "outputs": [],
   "source": [
    "#卷積層2 池化層2\n",
    "with tf.name_scope('c2_conv'):\n",
    "    W2=weight([5,5,16,36])\n",
    "    b2=bias([36])\n",
    "    conv2=conv2d(c1_pool, W2)+b2\n",
    "    c2_conv=tf.nn.relu(conv2)\n",
    "with tf.name_scope('c2_pool'):\n",
    "    c2_pool=max_pool(c2_conv)"
   ]
  },
  {
   "cell_type": "code",
   "execution_count": 7,
   "metadata": {},
   "outputs": [
    {
     "name": "stdout",
     "output_type": "stream",
     "text": [
      "WARNING:tensorflow:From <ipython-input-7-32f2d320a3ef>:8: calling dropout (from tensorflow.python.ops.nn_ops) with keep_prob is deprecated and will be removed in a future version.\n",
      "Instructions for updating:\n",
      "Please use `rate` instead of `keep_prob`. Rate should be set to `rate = 1 - keep_prob`.\n"
     ]
    }
   ],
   "source": [
    "#Fully connected layer\n",
    "with tf.name_scope('d_flat'):\n",
    "    d_flat=tf.reshape(c2_pool, [-1, 1764])\n",
    "with tf.name_scope('hidden_layer'):\n",
    "    W3=weight([1764,256])\n",
    "    b3=bias([256])\n",
    "    hidden_layer=tf.nn.relu(tf.matmul(d_flat, W3)+b3)\n",
    "    dropout_layer=tf.nn.dropout(hidden_layer, keep_prob=0.8)"
   ]
  },
  {
   "cell_type": "code",
   "execution_count": 8,
   "metadata": {},
   "outputs": [],
   "source": [
    "#output layer\n",
    "with tf.name_scope('output_layer'):\n",
    "    W4=weight([256, 10])\n",
    "    b4=bias([10])\n",
    "    y_predict=tf.nn.softmax(tf.matmul(dropout_layer, W4)+b4)"
   ]
  },
  {
   "cell_type": "code",
   "execution_count": 9,
   "metadata": {
    "scrolled": false
   },
   "outputs": [
    {
     "name": "stdout",
     "output_type": "stream",
     "text": [
      "WARNING:tensorflow:From <ipython-input-9-c9c236f94160>:3: softmax_cross_entropy_with_logits (from tensorflow.python.ops.nn_ops) is deprecated and will be removed in a future version.\n",
      "Instructions for updating:\n",
      "\n",
      "Future major versions of TensorFlow will allow gradients to flow\n",
      "into the labels input on backprop by default.\n",
      "\n",
      "See `tf.nn.softmax_cross_entropy_with_logits_v2`.\n",
      "\n"
     ]
    }
   ],
   "source": [
    "#設定模型最佳化步驟\n",
    "y_label=tf.placeholder('float', shape=[None, 10], name='y_label')\n",
    "loss_function=tf.reduce_mean(tf.nn.softmax_cross_entropy_with_logits(logits=y_predict, labels=y_label))\n",
    "optimizer=tf.train.AdamOptimizer(learning_rate=0.0001).minimize(loss_function)"
   ]
  },
  {
   "cell_type": "code",
   "execution_count": 10,
   "metadata": {},
   "outputs": [],
   "source": [
    "#定義準確率\n",
    "correct_prediction=tf.equal(tf.argmax(y_predict, 1),\n",
    "                            tf.argmax(y_label, 1))\n",
    "accuracy=tf.reduce_mean(tf.cast(correct_prediction, 'float'))"
   ]
  },
  {
   "cell_type": "code",
   "execution_count": 11,
   "metadata": {},
   "outputs": [],
   "source": [
    "#訓練模型\n",
    "train_epoch=20\n",
    "batch_size=100\n",
    "total_batch=int(mnist.train.num_examples/batch_size)\n",
    "epoch_list=[]; acc_list=[]; loss_list=[]\n",
    "from time import time\n",
    "start_time=time()\n",
    "sess=tf.Session()\n",
    "sess.run(tf.global_variables_initializer())"
   ]
  },
  {
   "cell_type": "code",
   "execution_count": 12,
   "metadata": {},
   "outputs": [
    {
     "name": "stdout",
     "output_type": "stream",
     "text": [
      "Epoch: 01 Loss: 1.567180514 Accuracy:  0.9138\n",
      "Epoch: 02 Loss: 1.525752783 Accuracy:  0.9452\n",
      "Epoch: 03 Loss: 1.512346983 Accuracy:  0.9552\n",
      "Epoch: 04 Loss: 1.499818563 Accuracy:  0.967\n",
      "Epoch: 05 Loss: 1.495138645 Accuracy:  0.97\n",
      "Epoch: 06 Loss: 1.494814277 Accuracy:  0.9694\n",
      "Epoch: 07 Loss: 1.490099072 Accuracy:  0.974\n",
      "Epoch: 08 Loss: 1.488441586 Accuracy:  0.9756\n",
      "Epoch: 09 Loss: 1.486319661 Accuracy:  0.9776\n",
      "Epoch: 10 Loss: 1.485114813 Accuracy:  0.978\n",
      "Epoch: 11 Loss: 1.480321765 Accuracy:  0.9828\n",
      "Epoch: 12 Loss: 1.480521917 Accuracy:  0.983\n",
      "Epoch: 13 Loss: 1.480690718 Accuracy:  0.9816\n",
      "Epoch: 14 Loss: 1.480835319 Accuracy:  0.9812\n",
      "Epoch: 15 Loss: 1.478366852 Accuracy:  0.9842\n",
      "Epoch: 16 Loss: 1.477877498 Accuracy:  0.9846\n",
      "Epoch: 17 Loss: 1.477572322 Accuracy:  0.9854\n",
      "Epoch: 18 Loss: 1.478241563 Accuracy:  0.985\n",
      "Epoch: 19 Loss: 1.477253556 Accuracy:  0.9846\n",
      "Epoch: 20 Loss: 1.476997018 Accuracy:  0.9852\n",
      "Train finish takes 1149.2768030166626\n"
     ]
    }
   ],
   "source": [
    "for epoch in range(train_epoch):\n",
    "    for i in range(total_batch):\n",
    "        x_batch, y_batch=mnist.train.next_batch(batch_size)\n",
    "        sess.run(optimizer, feed_dict={x:x_batch,\n",
    "                                       y_label:y_batch})\n",
    "    loss, acc=sess.run([loss_function, accuracy], feed_dict={x:mnist.validation.images, \n",
    "                                                             y_label:mnist.validation.labels})\n",
    "    epoch_list.append(epoch); loss_list.append(loss); acc_list.append(acc)\n",
    "    \n",
    "    print('Epoch: %02d'%(epoch+1), \n",
    "          'Loss: %.9f' %(loss),\n",
    "          'Accuracy: ', acc)\n",
    "duration=time()-start_time\n",
    "print(\"Train finish takes\", duration)"
   ]
  },
  {
   "cell_type": "code",
   "execution_count": 13,
   "metadata": {},
   "outputs": [
    {
     "data": {
      "image/png": "[encoded data removed]",
      "text/plain": [
       "<Figure size 288x144 with 1 Axes>"
      ]
     },
     "metadata": {
      "needs_background": "light"
     },
     "output_type": "display_data"
    }
   ],
   "source": [
    "import matplotlib.pyplot as plt\n",
    "fig=plt.gcf()\n",
    "fig.set_size_inches(4,2)\n",
    "plt.plot(epoch_list, acc_list)\n",
    "plt.xlabel('epoch')\n",
    "plt.ylabel('acc')\n",
    "plt.show()"
   ]
  },
  {
   "cell_type": "code",
   "execution_count": 14,
   "metadata": {},
   "outputs": [
    {
     "name": "stdout",
     "output_type": "stream",
     "text": [
      "Accuracy: 0.9851\n"
     ]
    }
   ],
   "source": [
    "#評估模型準確率\n",
    "print(\"Accuracy:\", sess.run(accuracy, feed_dict={x:mnist.test.images, \n",
    "                                                 y_label:mnist.test.labels}))"
   ]
  },
  {
   "cell_type": "code",
   "execution_count": 15,
   "metadata": {},
   "outputs": [
    {
     "data": {
      "text/plain": [
       "array([7, 2, 1, 0, 4, 1, 4, 9, 5, 9], dtype=int64)"
      ]
     },
     "execution_count": 15,
     "metadata": {},
     "output_type": "execute_result"
    }
   ],
   "source": [
    "#預測結果\n",
    "prediction=sess.run(tf.argmax(y_label, 1), feed_dict={x:mnist.test.images,\n",
    "                                                      y_label:mnist.test.labels})\n",
    "prediction[:10]"
   ]
  },
  {
   "cell_type": "code",
   "execution_count": 16,
   "metadata": {},
   "outputs": [],
   "source": [
    "import numpy as np\n",
    "def show_prediction(images, labels, prediction, idx, num):\n",
    "    fig=plt.gcf()\n",
    "    fig.set_size_inches(12,14)\n",
    "    for i in range(num):\n",
    "        ax=plt.subplot(5,5,i+1)\n",
    "        ax.imshow(np.reshape(images[idx], (28,28)), cmap='binary')\n",
    "        title='label='+str(np.argmax(labels[idx]))+' prediction='+str(prediction[idx])\n",
    "        ax.set_title(title, fontsize=9)\n",
    "        idx+=1\n",
    "    plt.show()"
   ]
  },
  {
   "cell_type": "code",
   "execution_count": 17,
   "metadata": {},
   "outputs": [
    {
     "data": {
      "image/png": "[encoded data removed]",
      "text/plain": [
       "<Figure size 864x1008 with 10 Axes>"
      ]
     },
     "metadata": {
      "needs_background": "light"
     },
     "output_type": "display_data"
    }
   ],
   "source": [
    "show_prediction(mnist.test.images, mnist.test.labels, prediction, 0, 10)"
   ]
  },
  {
   "cell_type": "code",
   "execution_count": 23,
   "metadata": {},
   "outputs": [],
   "source": [
    "#找出預測錯誤\n",
    "for i in range(mnist.test.num_examples):\n",
    "    if prediction[i]!=np.argmax(mnist.test.labels[i]):\n",
    "        print('i= ', i, 'prediction= ', prediction[i], 'label= ', np.argmax(mnist.test.labels[i]))"
   ]
  },
  {
   "cell_type": "code",
   "execution_count": null,
   "metadata": {},
   "outputs": [],
   "source": []
  }
 ],
 "metadata": {
  "kernelspec": {
   "display_name": "Python 3",
   "language": "python",
   "name": "python3"
  },
  "language_info": {
   "codemirror_mode": {
    "name": "ipython",
    "version": 3
   },
   "file_extension": ".py",
   "mimetype": "text/x-python",
   "name": "python",
   "nbconvert_exporter": "python",
   "pygments_lexer": "ipython3",
   "version": "3.6.10"
  }
 },
 "nbformat": 4,
 "nbformat_minor": 2
}
