{
 "cells": [
  {
   "cell_type": "code",
   "execution_count": null,
   "metadata": {},
   "outputs": [],
   "source": [
    "import cv2\n",
    "img=cv2.imread('E://test/test1/1.jpg')#讀取圖檔\n",
    "cv2.imshow(\"my image\", img)#顯示圖片，(視窗名字，圖檔的變數名稱)\n",
    "cv2.waitKey(0)#等待時間，0為持續等待至使用者按下任意鍵\n",
    "cv2.destroyAllWindows()#按下任意鍵後關閉所有opencv視窗"
   ]
  },
  {
   "cell_type": "code",
   "execution_count": null,
   "metadata": {},
   "outputs": [],
   "source": [
    "import matplotlib.pyplot as plt\n",
    "img=cv2.imread('E://test/test1/1.jpg')\n",
    "plt.imshow(img, cmap='gray')\n",
    "plt.xticks([]);plt.yticks([])\n",
    "plt.show()\n",
    "#cv2.imwrite('dog.jpg', img)存檔"
   ]
  },
  {
   "cell_type": "code",
   "execution_count": null,
   "metadata": {},
   "outputs": [],
   "source": [
    "img=cv2.imread('E://test/test1/1.jpg')\n",
    "cv2.line(img, (0,0), (150,150), (255,255,255), 15)\n",
    "cv2.rectangle(img, (15,25), (200,150), (0,255,255), 15)\n",
    "cv2.circle(img, (300,300), 50, (255,255,0), -1)\n",
    "cv2.imshow('image', img)\n",
    "cv2.waitKey(0)\n",
    "cv2.destroyAllWindows()"
   ]
  },
  {
   "cell_type": "code",
   "execution_count": null,
   "metadata": {},
   "outputs": [],
   "source": [
    "#繪製多邊形\n",
    "import numpy as np\n",
    "pts=np.array([[12,400],[350,270],[77,199]], np.int32)\n",
    "cv2.polylines(img, [pts], True, (0,0,0), 3)\n",
    "cv2.imshow('image', img)\n",
    "cv2.waitKey(0)\n",
    "cv2.destroyAllWindows()"
   ]
  },
  {
   "cell_type": "code",
   "execution_count": null,
   "metadata": {},
   "outputs": [],
   "source": [
    "#插入文字 cv2.putText(影像, 文字, 座標, 字型, 大小, 顏色, 線條寬度, 線條種類)\n",
    "font=cv2.FONT_HERSHEY_SIMPLEX\n",
    "cv2.putText(img, 'This is a dog', (40,250), font, 1, (255,0,255), 2, cv2.LINE_AA)\n",
    "cv2.imshow('image', img)\n",
    "cv2.waitKey(0)\n",
    "cv2.destroyAllWindows()"
   ]
  },
  {
   "cell_type": "code",
   "execution_count": null,
   "metadata": {
    "scrolled": true
   },
   "outputs": [],
   "source": [
    "img=cv2.imread('E://test/test1/1.jpg')\n",
    "px=img[55,55]\n",
    "print(px)\n",
    "img[55,55]=[255,255,255]\n",
    "px=img[55,55]\n",
    "print(px)\n",
    "px=img[100:150,100:150]\n",
    "#print(px)\n",
    "#img[100:150,100:150]=[255,255,255]\n",
    "#print(img[100:150,100:150])\n",
    "print(img.shape) \n",
    "print(img.size) \n",
    "print(img.dtype)"
   ]
  },
  {
   "cell_type": "code",
   "execution_count": null,
   "metadata": {},
   "outputs": [],
   "source": [
    "watch_face = img[37:111,107:194] \n",
    "img[0:74,0:87] = watch_face \n",
    "cv2.imshow('image',img) \n",
    "cv2.waitKey(0) \n",
    "cv2.destroyAllWindows()"
   ]
  },
  {
   "cell_type": "code",
   "execution_count": null,
   "metadata": {},
   "outputs": [],
   "source": [
    "#圖像加法\n",
    "img1=cv2.imread('E://test/test1/1.jpg')\n",
    "img2=cv2.imread('E://test/test1/2.jpg')\n",
    "#add=img1+img2\n",
    "#add=cv2.add(img1, img2)\n",
    "weighted=cv2.addWeighted(img1, 0.4, img2, 0.6, 0)\n",
    "cv2.imshow('weighted', weighted)\n",
    "cv2.waitKey(0)\n",
    "cv2.destroyAllWindows()"
   ]
  },
  {
   "cell_type": "code",
   "execution_count": null,
   "metadata": {},
   "outputs": [],
   "source": [
    "import numpy as np\n",
    "import cv2\n",
    "cap=cv2.VideoCapture('test.mp4')\n",
    "fourcc=cv2.VideoWriter_fourcc(*'XVID')\n",
    "#out=cv2.VideoWriter('output.avi', fourcc, 30, (640,480))\n",
    "while (True):\n",
    "    ret, frame=cap.read()\n",
    "    gray = cv2.cvtColor(frame, cv2.COLOR_BGR2GRAY)\n",
    "    #out.write(frame)\n",
    "    cv2.imshow('frame', gray)\n",
    "    if cv2.waitKey(30) & 0xFF == ord('q'):\n",
    "        break\n",
    "cap.release()\n",
    "out.release()\n",
    "cv2.destroyAllWindows()"
   ]
  },
  {
   "cell_type": "code",
   "execution_count": null,
   "metadata": {},
   "outputs": [],
   "source": [
    "import cv2\n",
    "img=cv2.imread('10.jpg')\n",
    "gray=cv2.cvtColor(img, cv2.COLOR_BGR2GRAY)#自適應閥值\n",
    "threshold=cv2.adaptiveThreshold(gray, 255, cv2.ADAPTIVE_THRESH_GAUSSIAN_C, cv2.THRESH_BINARY, 33, 1)\n",
    "cv2.imshow('original', img)\n",
    "cv2.imshow('threshold', threshold)\n",
    "cv2.waitKey(0)\n",
    "cv2.destroyAllWindows()"
   ]
  },
  {
   "cell_type": "code",
   "execution_count": null,
   "metadata": {},
   "outputs": [],
   "source": [
    "import cv2\n",
    "img=cv2.imread('10.jpg')\n",
    "gray=cv2.cvtColor(img, cv2.COLOR_BGR2GRAY)#大津閥值\n",
    "ret, threshold=cv2.threshold(gray,125,255,cv2.THRESH_BINARY+cv2.THRESH_OTSU)\n",
    "cv2.imshow('original', img)\n",
    "cv2.imshow('threshold', threshold)\n",
    "cv2.waitKey(0)\n",
    "cv2.destroyAllWindows()"
   ]
  },
  {
   "cell_type": "code",
   "execution_count": null,
   "metadata": {},
   "outputs": [],
   "source": [
    "import cv2#顏色過濾\n",
    "import numpy as np\n",
    "cap=cv2.VideoCapture('test.avi')\n",
    "while(1):\n",
    "    ret, frame=cap.read()\n",
    "    hsv=cv2.cvtColor(frame, cv2.COLOR_BGR2HSV)\n",
    "    \n",
    "    lower_red=np.array([30,150,50])\n",
    "    upper_red=np.array([255,255,180])\n",
    "    \n",
    "    mask=cv2.inRange(hsv, lower_red, upper_red)\n",
    "    res=cv2.bitwise_and(frame, frame, mask=mask)\n",
    "    cv2.imshow('frame', frame)\n",
    "    cv2.imshow('mask', mask)\n",
    "    cv2.imshow('res', res)\n",
    "    \n",
    "    if cv2.waitKey(20) & 0xFF==ord('q'):\n",
    "        break\n",
    "cv2.destroyAllWindows()\n",
    "cap.release()"
   ]
  },
  {
   "cell_type": "code",
   "execution_count": null,
   "metadata": {},
   "outputs": [],
   "source": [
    "import cv2#模糊和平滑\n",
    "import numpy as np\n",
    "cap=cv2.VideoCapture('test.avi')\n",
    "while(1):\n",
    "    ret, frame=cap.read()\n",
    "    hsv=cv2.cvtColor(frame, cv2.COLOR_BGR2HSV)\n",
    "    \n",
    "    lower_red=np.array([30,150,50])\n",
    "    upper_red=np.array([255,255,180])\n",
    "        \n",
    "    kernel=np.ones((15,15), np.float32)/255\n",
    "    smooth=cv2.filter2D(frame, -1, kernel)#2D捲積\n",
    "    blur = cv2.GaussianBlur(frame,(15,15),0)#高斯模糊\n",
    "    median = cv2.medianBlur(frame,15) #中值模糊\n",
    "    bilateral = cv2.bilateralFilter(frame,15,75,75)#雙向模糊 \n",
    "    \n",
    "    cv2.imshow('bilateral Blur',bilateral)\n",
    "    cv2.imshow('Median Blur',median)\n",
    "    cv2.imshow('Gaussian Blurring',blur)\n",
    "    cv2.imshow('original', frame)\n",
    "    cv2.imshow('averaging', smooth)\n",
    "    \n",
    "    if cv2.waitKey(20) & 0xFF==ord('q'):\n",
    "        break\n",
    "cv2.destroyAllWindows()\n",
    "cap.release()"
   ]
  },
  {
   "cell_type": "code",
   "execution_count": null,
   "metadata": {},
   "outputs": [],
   "source": [
    "import cv2\n",
    "import numpy as np\n",
    "img = cv2.imread('j.png', 0)\n",
    "kernel = np.ones((5, 5), np.uint8)\n",
    "erosion = cv2.erode(img, kernel, iterations=1)#侵蝕\n",
    "dilation = cv2.dilate(img,kernel,iterations = 1)#膨脹\n",
    "cv2.imshow('dilation', dilation)\n",
    "cv2.imshow('erosion', erosion)\n",
    "cv2.waitKey(0)\n",
    "cv2.destroyAllWindows()"
   ]
  },
  {
   "cell_type": "code",
   "execution_count": null,
   "metadata": {},
   "outputs": [],
   "source": [
    "import cv2\n",
    "import numpy as np\n",
    "img = cv2.imread('opening.png', 0)\n",
    "kernel = np.ones((5, 5), np.uint8)\n",
    "opening = cv2.morphologyEx(img, cv2.MORPH_OPEN, kernel)#開運算\n",
    "img1 = cv2.imread('closing.png', 0)\n",
    "kernel = np.ones((5, 5), np.uint8)\n",
    "closing = cv2.morphologyEx(img1, cv2.MORPH_CLOSE, kernel)#閉運算\n",
    "cv2.imshow('original1', img1)\n",
    "cv2.imshow('closing', closing)\n",
    "cv2.imshow('original', img)\n",
    "cv2.imshow('opening', opening)\n",
    "cv2.waitKey(0)\n",
    "cv2.destroyAllWindows()"
   ]
  },
  {
   "cell_type": "code",
   "execution_count": 10,
   "metadata": {},
   "outputs": [],
   "source": [
    "import cv2\n",
    "face_cascade=cv2.CascadeClassifier('haarcascade_frontalface_default.xml')\n",
    "\n",
    "img = cv2.imread('face.jfif')\n",
    "gray = cv2.cvtColor(img, cv2.COLOR_BGR2GRAY)\n",
    "\n",
    "faces = face_cascade.detectMultiScale(gray, scaleFactor=1.08, minNeighbors=5, minSize=(32,32))\n",
    "for (x, y, w, h) in faces:\n",
    "    cv2.rectangle(img, (x, y), (x+w, y+h), (0, 255, 0), 2)\n",
    "cv2.imshow('image', img)\n",
    "cv2.waitKey(0)\n",
    "cv2.destroyAllWindows()"
   ]
  },
  {
   "cell_type": "code",
   "execution_count": 15,
   "metadata": {},
   "outputs": [],
   "source": [
    "import cv2\n",
    "face_cascade=cv2.CascadeClassifier('haarcascade_frontalface_default.xml')\n",
    "\n",
    "cap = cv2.VideoCapture('test.avi')\n",
    "while True:\n",
    "    ret, frame = cap.read()\n",
    "    gray = cv2.cvtColor(frame, cv2.COLOR_BGR2GRAY)\n",
    "    faces = face_cascade.detectMultiScale(gray, 1.1, 5)\n",
    "    for (x, y, w, h) in faces:\n",
    "        cv2.rectangle(frame, (x, y), (x+w, y+h), (255,0,0), 2)\n",
    "    cv2.imshow('frame', frame)\n",
    "    if cv2.waitKey(1) & 0xFF==ord('q'): break\n",
    "cap.release()\n",
    "cv2.destroyAllWindows()"
   ]
  }
 ],
 "metadata": {
  "kernelspec": {
   "display_name": "Python 3",
   "language": "python",
   "name": "python3"
  },
  "language_info": {
   "codemirror_mode": {
    "name": "ipython",
    "version": 3
   },
   "file_extension": ".py",
   "mimetype": "text/x-python",
   "name": "python",
   "nbconvert_exporter": "python",
   "pygments_lexer": "ipython3",
   "version": "3.6.10"
  }
 },
 "nbformat": 4,
 "nbformat_minor": 2
}
