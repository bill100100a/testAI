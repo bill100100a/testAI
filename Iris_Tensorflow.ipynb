{
 "cells": [
  {
   "cell_type": "code",
   "execution_count": 6,
   "metadata": {},
   "outputs": [],
   "source": [
    "import os\n",
    "import urllib.request\n",
    "import tensorflow as tf\n",
    "import numpy as np\n",
    "\n",
    "iris_train = 'iris/iris_training.csv'\n",
    "iris_train_url = 'http://download.tensorflow.org/data/iris_training.csv'\n",
    "iris_test = 'iris/iris_test.csv'\n",
    "iris_test_url = 'http://download.tensorflow.org/data/iris_test.csv'\n",
    "\n",
    "if not os.path.isfile(iris_train):\n",
    "    result = urllib.request.urlretrieve(iris_train_url, iris_train)\n",
    "    print('downloaded')\n",
    "if not os.path.isfile(iris_test):\n",
    "    result = urllib.request.urlretrieve(iris_test_url, iris_test)\n",
    "    print('downloaded')"
   ]
  },
  {
   "cell_type": "code",
   "execution_count": 7,
   "metadata": {},
   "outputs": [
    {
     "name": "stdout",
     "output_type": "stream",
     "text": [
      "WARNING:tensorflow:\n",
      "The TensorFlow contrib module will not be included in TensorFlow 2.0.\n",
      "For more information, please see:\n",
      "  * https://github.com/tensorflow/community/blob/master/rfcs/20180907-contrib-sunset.md\n",
      "  * https://github.com/tensorflow/addons\n",
      "  * https://github.com/tensorflow/io (for I/O related ops)\n",
      "If you depend on functionality not listed there, please file an issue.\n",
      "\n",
      "WARNING:tensorflow:From <ipython-input-7-6fbd1186e767>:5: load_csv_with_header (from tensorflow.contrib.learn.python.learn.datasets.base) is deprecated and will be removed in a future version.\n",
      "Instructions for updating:\n",
      "Use tf.data instead.\n"
     ]
    }
   ],
   "source": [
    "# 載入資料並指定型別\n",
    "training_set = tf.contrib.learn.datasets.base.load_csv_with_header(\n",
    "               filename = iris_train, \n",
    "               target_dtype = np.int,\n",
    "               features_dtype = np.float32)\n",
    "test_set = tf.contrib.learn.datasets.base.load_csv_with_header(\n",
    "               filename = iris_test, \n",
    "               target_dtype = np.int,\n",
    "               features_dtype = np.float32)\n",
    "# 指定所有特徵資料皆為實數\n",
    "feature_columns = [tf.feature_column.numeric_column('x', shape=[4])]"
   ]
  },
  {
   "cell_type": "code",
   "execution_count": 8,
   "metadata": {},
   "outputs": [
    {
     "name": "stdout",
     "output_type": "stream",
     "text": [
      "INFO:tensorflow:Using default config.\n",
      "INFO:tensorflow:Using config: {'_model_dir': 'iris/iris_model', '_tf_random_seed': None, '_save_summary_steps': 100, '_save_checkpoints_steps': None, '_save_checkpoints_secs': 600, '_session_config': allow_soft_placement: true\n",
      "graph_options {\n",
      "  rewrite_options {\n",
      "    meta_optimizer_iterations: ONE\n",
      "  }\n",
      "}\n",
      ", '_keep_checkpoint_max': 5, '_keep_checkpoint_every_n_hours': 10000, '_log_step_count_steps': 100, '_train_distribute': None, '_device_fn': None, '_protocol': None, '_eval_distribute': None, '_experimental_distribute': None, '_experimental_max_worker_delay_secs': None, '_session_creation_timeout_secs': 7200, '_service': None, '_cluster_spec': <tensorflow.python.training.server_lib.ClusterSpec object at 0x0000020237ADB710>, '_task_type': 'worker', '_task_id': 0, '_global_id_in_cluster': 0, '_master': '', '_evaluation_master': '', '_is_chief': True, '_num_ps_replicas': 0, '_num_worker_replicas': 1}\n"
     ]
    }
   ],
   "source": [
    "# 建立 3 層的類神經網路分類器，3 層的單元數分別為 10、20、10 個\n",
    "classifier = tf.estimator.DNNClassifier(feature_columns = feature_columns,\n",
    "                                        hidden_units = [10,20,10],\n",
    "                                        n_classes = 3,\n",
    "                                        model_dir = 'iris/iris_model')"
   ]
  },
  {
   "cell_type": "code",
   "execution_count": 9,
   "metadata": {
    "scrolled": true
   },
   "outputs": [
    {
     "name": "stdout",
     "output_type": "stream",
     "text": [
      "WARNING:tensorflow:From E:\\Anaconda\\Anaconda\\envs\\testAI\\lib\\site-packages\\tensorflow_core\\python\\training\\training_util.py:236: Variable.initialized_value (from tensorflow.python.ops.variables) is deprecated and will be removed in a future version.\n",
      "Instructions for updating:\n",
      "Use Variable.read_value. Variables in 2.X are initialized automatically both in eager and graph (inside tf.defun) contexts.\n",
      "WARNING:tensorflow:From E:\\Anaconda\\Anaconda\\envs\\testAI\\lib\\site-packages\\tensorflow_estimator\\python\\estimator\\inputs\\queues\\feeding_queue_runner.py:62: QueueRunner.__init__ (from tensorflow.python.training.queue_runner_impl) is deprecated and will be removed in a future version.\n",
      "Instructions for updating:\n",
      "To construct input pipelines, use the `tf.data` module.\n",
      "WARNING:tensorflow:From E:\\Anaconda\\Anaconda\\envs\\testAI\\lib\\site-packages\\tensorflow_estimator\\python\\estimator\\inputs\\queues\\feeding_functions.py:500: add_queue_runner (from tensorflow.python.training.queue_runner_impl) is deprecated and will be removed in a future version.\n",
      "Instructions for updating:\n",
      "To construct input pipelines, use the `tf.data` module.\n",
      "INFO:tensorflow:Calling model_fn.\n",
      "WARNING:tensorflow:From E:\\Anaconda\\Anaconda\\envs\\testAI\\lib\\site-packages\\tensorflow_core\\python\\ops\\resource_variable_ops.py:1630: calling BaseResourceVariable.__init__ (from tensorflow.python.ops.resource_variable_ops) with constraint is deprecated and will be removed in a future version.\n",
      "Instructions for updating:\n",
      "If using Keras pass *_constraint arguments to layers.\n",
      "WARNING:tensorflow:From E:\\Anaconda\\Anaconda\\envs\\testAI\\lib\\site-packages\\tensorflow_estimator\\python\\estimator\\canned\\head.py:437: to_float (from tensorflow.python.ops.math_ops) is deprecated and will be removed in a future version.\n",
      "Instructions for updating:\n",
      "Use `tf.cast` instead.\n",
      "WARNING:tensorflow:From E:\\Anaconda\\Anaconda\\envs\\testAI\\lib\\site-packages\\tensorflow_core\\python\\training\\adagrad.py:76: calling Constant.__init__ (from tensorflow.python.ops.init_ops) with dtype is deprecated and will be removed in a future version.\n",
      "Instructions for updating:\n",
      "Call initializer instance with the dtype argument instead of passing it to the constructor\n",
      "INFO:tensorflow:Done calling model_fn.\n",
      "INFO:tensorflow:Create CheckpointSaverHook.\n",
      "WARNING:tensorflow:From E:\\Anaconda\\Anaconda\\envs\\testAI\\lib\\site-packages\\tensorflow_core\\python\\ops\\array_ops.py:1475: where (from tensorflow.python.ops.array_ops) is deprecated and will be removed in a future version.\n",
      "Instructions for updating:\n",
      "Use tf.where in 2.0, which has the same broadcast rule as np.where\n",
      "INFO:tensorflow:Graph was finalized.\n",
      "INFO:tensorflow:Running local_init_op.\n",
      "INFO:tensorflow:Done running local_init_op.\n",
      "WARNING:tensorflow:From E:\\Anaconda\\Anaconda\\envs\\testAI\\lib\\site-packages\\tensorflow_core\\python\\training\\monitored_session.py:882: start_queue_runners (from tensorflow.python.training.queue_runner_impl) is deprecated and will be removed in a future version.\n",
      "Instructions for updating:\n",
      "To construct input pipelines, use the `tf.data` module.\n",
      "INFO:tensorflow:Saving checkpoints for 0 into iris/iris_model\\model.ckpt.\n",
      "INFO:tensorflow:loss = 146.9972, step = 1\n",
      "INFO:tensorflow:global_step/sec: 479.071\n",
      "INFO:tensorflow:loss = 12.460397, step = 101 (0.211 sec)\n",
      "INFO:tensorflow:global_step/sec: 835.557\n",
      "INFO:tensorflow:loss = 10.69072, step = 201 (0.120 sec)\n",
      "INFO:tensorflow:global_step/sec: 864.374\n",
      "INFO:tensorflow:loss = 5.7149124, step = 301 (0.115 sec)\n",
      "INFO:tensorflow:global_step/sec: 973.473\n",
      "INFO:tensorflow:loss = 6.8548317, step = 401 (0.104 sec)\n",
      "INFO:tensorflow:global_step/sec: 911.532\n",
      "INFO:tensorflow:loss = 9.777441, step = 501 (0.109 sec)\n",
      "INFO:tensorflow:global_step/sec: 911.52\n",
      "INFO:tensorflow:loss = 8.726463, step = 601 (0.111 sec)\n",
      "INFO:tensorflow:global_step/sec: 937.076\n",
      "INFO:tensorflow:loss = 5.6023583, step = 701 (0.107 sec)\n",
      "INFO:tensorflow:global_step/sec: 911.514\n",
      "INFO:tensorflow:loss = 2.7044368, step = 801 (0.110 sec)\n",
      "INFO:tensorflow:global_step/sec: 937.088\n",
      "INFO:tensorflow:loss = 4.2950325, step = 901 (0.106 sec)\n",
      "INFO:tensorflow:global_step/sec: 992.749\n",
      "INFO:tensorflow:loss = 7.6809607, step = 1001 (0.102 sec)\n",
      "INFO:tensorflow:global_step/sec: 928.406\n",
      "INFO:tensorflow:loss = 14.072874, step = 1101 (0.107 sec)\n",
      "INFO:tensorflow:global_step/sec: 937.078\n",
      "INFO:tensorflow:loss = 5.541787, step = 1201 (0.108 sec)\n",
      "INFO:tensorflow:global_step/sec: 835.562\n",
      "INFO:tensorflow:loss = 12.290005, step = 1301 (0.120 sec)\n",
      "INFO:tensorflow:global_step/sec: 983.016\n",
      "INFO:tensorflow:loss = 4.243862, step = 1401 (0.101 sec)\n",
      "INFO:tensorflow:global_step/sec: 992.744\n",
      "INFO:tensorflow:loss = 12.006248, step = 1501 (0.101 sec)\n",
      "INFO:tensorflow:global_step/sec: 1009.15\n",
      "INFO:tensorflow:loss = 2.8057783, step = 1601 (0.099 sec)\n",
      "INFO:tensorflow:global_step/sec: 992.486\n",
      "INFO:tensorflow:loss = 8.481301, step = 1701 (0.102 sec)\n",
      "INFO:tensorflow:global_step/sec: 1009.16\n",
      "INFO:tensorflow:loss = 4.958082, step = 1801 (0.098 sec)\n",
      "INFO:tensorflow:global_step/sec: 961.322\n",
      "INFO:tensorflow:loss = 4.6547375, step = 1901 (0.104 sec)\n",
      "INFO:tensorflow:Saving checkpoints for 2000 into iris/iris_model\\model.ckpt.\n",
      "INFO:tensorflow:Loss for final step: 5.9107456.\n"
     ]
    },
    {
     "data": {
      "text/plain": [
       "<tensorflow_estimator.python.estimator.canned.dnn.DNNClassifier at 0x2022e463198>"
      ]
     },
     "execution_count": 9,
     "metadata": {},
     "output_type": "execute_result"
    }
   ],
   "source": [
    "# 定義訓練資料的輸入\n",
    "train_input = tf.estimator.inputs.numpy_input_fn(x = {'x':np.array(training_set.data)},\n",
    "                                                 y = np.array(training_set.target),\n",
    "                                                 num_epochs = None,\n",
    "                                                 shuffle = True)\n",
    "#訓練模型\n",
    "classifier.train(input_fn = train_input, steps = 2000)"
   ]
  },
  {
   "cell_type": "code",
   "execution_count": 10,
   "metadata": {
    "scrolled": false
   },
   "outputs": [
    {
     "name": "stdout",
     "output_type": "stream",
     "text": [
      "INFO:tensorflow:Calling model_fn.\n",
      "INFO:tensorflow:Done calling model_fn.\n",
      "INFO:tensorflow:Starting evaluation at 2020-03-12T10:40:39Z\n",
      "INFO:tensorflow:Graph was finalized.\n",
      "INFO:tensorflow:Restoring parameters from iris/iris_model\\model.ckpt-2000\n",
      "INFO:tensorflow:Running local_init_op.\n",
      "INFO:tensorflow:Done running local_init_op.\n",
      "INFO:tensorflow:Finished evaluation at 2020-03-12-10:40:40\n",
      "INFO:tensorflow:Saving dict for global step 2000: accuracy = 0.96666664, average_loss = 0.0551669, global_step = 2000, loss = 1.655007\n",
      "INFO:tensorflow:Saving 'checkpoint_path' summary for global step 2000: iris/iris_model\\model.ckpt-2000\n",
      "test accuracy:0.96667\n"
     ]
    }
   ],
   "source": [
    "# 定義測試資料的輸入\n",
    "test_input = tf.estimator.inputs.numpy_input_fn(x = {'x':np.array(test_set.data)},\n",
    "                                                y = np.array(test_set.target),\n",
    "                                                num_epochs = 1,\n",
    "                                                shuffle = False)\n",
    "# 驗證模型準確度\n",
    "accuracy = classifier.evaluate(input_fn = test_input)['accuracy']\n",
    "print('test accuracy:%.5f'%accuracy)"
   ]
  },
  {
   "cell_type": "code",
   "execution_count": null,
   "metadata": {},
   "outputs": [],
   "source": []
  }
 ],
 "metadata": {
  "kernelspec": {
   "display_name": "Python 3",
   "language": "python",
   "name": "python3"
  },
  "language_info": {
   "codemirror_mode": {
    "name": "ipython",
    "version": 3
   },
   "file_extension": ".py",
   "mimetype": "text/x-python",
   "name": "python",
   "nbconvert_exporter": "python",
   "pygments_lexer": "ipython3",
   "version": "3.6.10"
  }
 },
 "nbformat": 4,
 "nbformat_minor": 2
}
