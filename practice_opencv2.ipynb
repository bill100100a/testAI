{
 "cells": [
  {
   "cell_type": "code",
   "execution_count": 10,
   "metadata": {},
   "outputs": [],
   "source": [
    "import cv2\n",
    "import numpy as np\n",
    "img = cv2.imread('test_opencv/lena.jpg')\n",
    "height = img.shape[0]\n",
    "width = img.shape[1]\n",
    "negative_file = np.zeros((height, width, 3))\n",
    "b, g, r = cv2.split(img)\n",
    "\n",
    "b = 255-b\n",
    "g = 255-g\n",
    "r = 255-r\n",
    "\n",
    "negative_file[:,:,0] = b\n",
    "negative_file[:,:,1] = g\n",
    "negative_file[:,:,2] = r\n",
    "\n",
    "cv2.imshow('original', img)\n",
    "cv2.imshow('negative_file', negative_file)\n",
    "cv2.waitKey(0)\n",
    "cv2.destroyAllWindows()"
   ]
  },
  {
   "cell_type": "code",
   "execution_count": 11,
   "metadata": {},
   "outputs": [],
   "source": [
    "import cv2\n",
    "import numpy as np\n",
    "img = cv2.imread('test_opencv/lena.jpg')\n",
    "def cvt_img(img, alpha, beta):\n",
    "    blank = np.zeros(img.shape, img.dtype)\n",
    "    return cv2.addWeighted(img, alpha, blank, 0, beta)\n",
    "cv2.imshow('cvt_img', cvt_img(img, 2.2, 50))\n",
    "cv2.waitKey(0)\n",
    "cv2.destroyAllWindows()"
   ]
  },
  {
   "cell_type": "code",
   "execution_count": 12,
   "metadata": {},
   "outputs": [],
   "source": [
    "import cv2\n",
    "img = cv2.imread('test_opencv/lena.jpg')\n",
    "img.shape\n",
    "new_img = img[30:370, 50:450]\n",
    "row, col = img.shape[:2]\n",
    "img2 = cv2.resize(img, (280, 350), interpolation=cv2.INTER_AREA)\n",
    "rotated = cv2.getRotationMatrix2D((row/2, col/2), 45, 1)\n",
    "rotated_img = cv2.warpAffine(img, rotated, (row, col))\n",
    "cv2.imshow('original', img)\n",
    "cv2.imshow('new image', new_img)\n",
    "cv2.imshow('resize', img2)\n",
    "cv2.imshow('rotated', rotated_img)\n",
    "cv2.waitKey(0)\n",
    "cv2.destroyAllWindows()"
   ]
  },
  {
   "cell_type": "code",
   "execution_count": 25,
   "metadata": {},
   "outputs": [],
   "source": [
    "import cv2\n",
    "import numpy as np\n",
    "import random\n",
    "img = cv2.imread('test_opencv/lena.jpg')\n",
    "gray = cv2.imread('test_opencv/lena.jpg', cv2.IMREAD_GRAYSCALE)\n",
    "gray2 = cv2.cvtColor(img, cv2.COLOR_BGR2GRAY)\n",
    "def salt_and_pepper_noise(img, percentage):\n",
    "    row, col = img.shape[:2]\n",
    "    num = int(percentage*row*col)\n",
    "    for i in range(num):\n",
    "        x = random.randint(0, row-1)\n",
    "        y = random.randint(0, col-1)\n",
    "        if random.randint(0, 1)==0:\n",
    "            img[x, y] = 0\n",
    "        else:\n",
    "            img[x, y] = 255\n",
    "    return img\n",
    "def gaussian_noise(img, mu, sigma, k):\n",
    "    row, col = img.shape[:2]\n",
    "    for i in range(row):\n",
    "        for j in range(col):\n",
    "            value = int(img[i, j] + k * random.gauss(mu=mu, sigma=sigma))\n",
    "            value = np.clip(a=value, a_max=255, a_min=0)\n",
    "            img[i,j] = value\n",
    "    return img\n",
    "cv2.imshow('original', gray)\n",
    "cv2.imshow('salt_and_pepper', salt_and_pepper_noise(gray, 0.3))\n",
    "cv2.imshow('gaussian_noise', gaussian_noise(gray2, 0, 1, 32))\n",
    "cv2.waitKey(0)\n",
    "cv2.destroyAllWindows()"
   ]
  },
  {
   "cell_type": "code",
   "execution_count": null,
   "metadata": {},
   "outputs": [],
   "source": []
  }
 ],
 "metadata": {
  "kernelspec": {
   "display_name": "Python 3",
   "language": "python",
   "name": "python3"
  },
  "language_info": {
   "codemirror_mode": {
    "name": "ipython",
    "version": 3
   },
   "file_extension": ".py",
   "mimetype": "text/x-python",
   "name": "python",
   "nbconvert_exporter": "python",
   "pygments_lexer": "ipython3",
   "version": "3.6.10"
  }
 },
 "nbformat": 4,
 "nbformat_minor": 2
}
